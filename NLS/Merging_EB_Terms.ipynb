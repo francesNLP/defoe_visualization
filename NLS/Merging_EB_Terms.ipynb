{
 "cells": [
  {
   "cell_type": "markdown",
   "metadata": {},
   "source": [
    "# Merging EB terms-  NLS -  Encyclopaedia Britannica\n"
   ]
  },
  {
   "cell_type": "markdown",
   "metadata": {},
   "source": [
    "### Loading the necessary libraries"
   ]
  },
  {
   "cell_type": "code",
   "execution_count": 1,
   "metadata": {},
   "outputs": [],
   "source": [
    "import yaml\n",
    "import matplotlib.pyplot as plt\n",
    "import numpy as np\n",
    "import collections\n",
    "import matplotlib as mpl"
   ]
  },
  {
   "cell_type": "code",
   "execution_count": 2,
   "metadata": {},
   "outputs": [],
   "source": [
    "import pandas as pd\n",
    "from yaml import safe_load\n",
    "from pandas.io.json import json_normalize"
   ]
  },
  {
   "cell_type": "markdown",
   "metadata": {},
   "source": [
    "### Functions"
   ]
  },
  {
   "cell_type": "code",
   "execution_count": 3,
   "metadata": {},
   "outputs": [],
   "source": [
    "def read_query_results(filename):\n",
    "    with open('./results_NLS/'+filename, 'r') as f:\n",
    "        query_results = safe_load(f)\n",
    "    return query_results\n"
   ]
  },
  {
   "cell_type": "code",
   "execution_count": 4,
   "metadata": {},
   "outputs": [],
   "source": [
    "def write_query_results(filename, results):\n",
    "    with open('./results_NLS/'+filename, 'w') as f:\n",
    "        documents = yaml.dump(results, f)"
   ]
  },
  {
   "cell_type": "code",
   "execution_count": 5,
   "metadata": {},
   "outputs": [],
   "source": [
    "def create_dataframe(data):\n",
    "    return pd.DataFrame(data.items())"
   ]
  },
  {
   "cell_type": "code",
   "execution_count": 6,
   "metadata": {},
   "outputs": [],
   "source": [
    "def prune_json(json_dict):\n",
    "    \"\"\"\n",
    "    Method that given a JSON object, removes all its empty fields.\n",
    "    This method simplifies the resultant JSON.\n",
    "    :param json_dict input JSON file to prune\n",
    "    :return JSON file removing empty values\n",
    "    \"\"\"\n",
    "    final_dict = {}\n",
    "    if not (isinstance(json_dict, dict)):\n",
    "        # Ensure the element provided is a dict\n",
    "        return json_dict\n",
    "    else:\n",
    "        for a, b in json_dict.items():\n",
    "            if b or isinstance(b, bool):\n",
    "                if isinstance(b, dict):\n",
    "                    aux_dict = prune_json(b)\n",
    "                    if aux_dict:  # Remove empty dicts\n",
    "                        final_dict[a] = aux_dict\n",
    "                elif isinstance(b, list):\n",
    "                    aux_list = list(filter(None, [prune_json(i) for i in b]))\n",
    "                    if len(aux_list) > 0:  # Remove empty lists\n",
    "                        final_dict[a] = aux_list\n",
    "                else:\n",
    "                    final_dict[a] = b\n",
    "    return final_dict"
   ]
  },
  {
   "cell_type": "code",
   "execution_count": 7,
   "metadata": {},
   "outputs": [],
   "source": [
    "def merge_terms(query_results):\n",
    "    for page in query_results:\n",
    "        for element in query_results[page]:\n",
    "            if \"previous_page\" in element['term']:\n",
    "                current_page=int(element['text_unit_id'].split(\"Page\")[1])\n",
    "                current_definition= element[\"definition\"]\n",
    "                previous_page_number= current_page-1\n",
    "                previous_page=previous_page_number\n",
    "                num_article_words=element[\"num_article_words\"]\n",
    "                related_terms=element[\"related_terms\"]\n",
    "                try:\n",
    "                    if query_results[previous_page]:\n",
    "                        flag_prev = 1\n",
    "                except:\n",
    "                    flag_prev = 0\n",
    "                while not flag_prev:\n",
    "                    previous_page_number = previous_page_number -1\n",
    "                    previous_page=previous_page_number\n",
    "                    try: \n",
    "                        if query_results[previous_page]:\n",
    "                            flag_prev = 1\n",
    "                    except:\n",
    "                        flag_prev = 0\n",
    "        \n",
    "                #print(\"Current Page %s - Previous Page %s\" %(element['text_unit_id'], previous_page))\n",
    "                for prev_elements in query_results[previous_page]:\n",
    "                    if prev_elements[\"last_term_in_page\"]:\n",
    "                        prev_elements[\"definition\"]+=current_definition\n",
    "                        prev_elements[\"num_article_words\"]+=num_article_words\n",
    "                        prev_elements[\"related_terms\"]+= related_terms\n",
    "                    \n",
    "                    prev_elements[\"num_page_words\"]+=num_article_words\n",
    "                    \n",
    "                for update_element in query_results[page]:\n",
    "                    update_element[\"num_page_words\"]-=num_article_words\n",
    "                    update_element[\"num_articles\"]-=1\n",
    "                    \n",
    "                element_index=query_results[page].index(element)\n",
    "                del query_results[page][element_index]\n",
    "    return query_results"
   ]
  },
  {
   "cell_type": "code",
   "execution_count": 8,
   "metadata": {},
   "outputs": [],
   "source": [
    "query_results=read_query_results('results_eb_first')"
   ]
  },
  {
   "cell_type": "code",
   "execution_count": 10,
   "metadata": {},
   "outputs": [],
   "source": [
    "query_results_updated=merge_terms(query_results)"
   ]
  },
  {
   "cell_type": "code",
   "execution_count": 11,
   "metadata": {},
   "outputs": [],
   "source": [
    "prune_results=prune_json(query_results_updated)"
   ]
  },
  {
   "cell_type": "code",
   "execution_count": 12,
   "metadata": {},
   "outputs": [],
   "source": [
    "write_query_results(\"results_eb_first_updated\", prune_results)"
   ]
  },
  {
   "cell_type": "code",
   "execution_count": 13,
   "metadata": {},
   "outputs": [],
   "source": [
    "df=create_dataframe(query_results_updated)"
   ]
  },
  {
   "cell_type": "code",
   "execution_count": 14,
   "metadata": {},
   "outputs": [
    {
     "data": {
      "text/plain": [
       "0        2\n",
       "1        3\n",
       "2        8\n",
       "3        9\n",
       "4       11\n",
       "      ... \n",
       "715    826\n",
       "716    827\n",
       "717    828\n",
       "718    829\n",
       "719    830\n",
       "Name: 0, Length: 720, dtype: int64"
      ]
     },
     "execution_count": 14,
     "metadata": {},
     "output_type": "execute_result"
    }
   ],
   "source": [
    "df[0]"
   ]
  },
  {
   "cell_type": "code",
   "execution_count": 15,
   "metadata": {},
   "outputs": [
    {
     "data": {
      "text/plain": [
       "[{'archive_filename': '/Users/rosafilgueira/HW-Work/NLS-Fellowship/work/defoe/nls-data-encyclopaediaBritannica/first_edition/144133901/',\n",
       "  'definition': 'n*s-f 7^\\' v L i A j J ^ /^^W / ; H:;^’ J }r-r£c9\\'&} \"*— \" ..^4-—>, \\'I ■ . ,/. ■ -,... v V *•/U^v UJ~L ^ (txk^L j 1rvt*Xitj $ /i *4j/cJysx*£>Xb<. f^oLZ^^c^. % \\'bv C JJ. \\' }v*c Ccl U^K <77t . t^cCv-yt^yA. *-? ^v. •^GL* ftc *frt yylrr Cj? yu>t f\\\\ ^^2!',\n",
       "  'edition': 'First edition, 1771, Volume 1, A-B',\n",
       "  'header': 'iiiubnsfvnsfv',\n",
       "  'last_term_in_page': 1,\n",
       "  'model': 'nlsArticles',\n",
       "  'num_article_words': 58,\n",
       "  'num_articles': 1,\n",
       "  'num_page_words': 59,\n",
       "  'num_text_unit': 832,\n",
       "  'place': 'Edinburgh',\n",
       "  'related_terms': [],\n",
       "  'source_text_file': 'alto/188082735.34.xml',\n",
       "  'term': 'iiiubnsfvnsfv',\n",
       "  'term_id_in_page': 0,\n",
       "  'text_unit': 'page',\n",
       "  'text_unit_id': 'Page2',\n",
       "  'title': 'Encyclopaedia Britannica; or, A dictionary of arts and sciences, compiled upon a new plan',\n",
       "  'type_archive': 'book',\n",
       "  'type_page': 'FullPage',\n",
       "  'year': 1771}]"
      ]
     },
     "execution_count": 15,
     "metadata": {},
     "output_type": "execute_result"
    }
   ],
   "source": [
    "df.iloc[0][1]"
   ]
  },
  {
   "cell_type": "code",
   "execution_count": null,
   "metadata": {},
   "outputs": [],
   "source": []
  }
 ],
 "metadata": {
  "kernelspec": {
   "display_name": "Python 3",
   "language": "python",
   "name": "python3"
  },
  "language_info": {
   "codemirror_mode": {
    "name": "ipython",
    "version": 3
   },
   "file_extension": ".py",
   "mimetype": "text/x-python",
   "name": "python",
   "nbconvert_exporter": "python",
   "pygments_lexer": "ipython3",
   "version": "3.7.2"
  }
 },
 "nbformat": 4,
 "nbformat_minor": 2
}
