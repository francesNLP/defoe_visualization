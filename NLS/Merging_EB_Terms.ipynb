{
 "cells": [
  {
   "cell_type": "markdown",
   "metadata": {},
   "source": [
    "# Merging EB terms-  NLS -  Encyclopaedia Britannica\n"
   ]
  },
  {
   "cell_type": "markdown",
   "metadata": {},
   "source": [
    "### Loading the necessary libraries"
   ]
  },
  {
   "cell_type": "code",
   "execution_count": 1,
   "metadata": {},
   "outputs": [],
   "source": [
    "import yaml\n",
    "import matplotlib.pyplot as plt\n",
    "import numpy as np\n",
    "import collections\n",
    "import matplotlib as mpl"
   ]
  },
  {
   "cell_type": "code",
   "execution_count": 2,
   "metadata": {},
   "outputs": [],
   "source": [
    "import pandas as pd\n",
    "from yaml import safe_load\n",
    "from pandas.io.json import json_normalize"
   ]
  },
  {
   "cell_type": "markdown",
   "metadata": {},
   "source": [
    "### Functions"
   ]
  },
  {
   "cell_type": "code",
   "execution_count": 3,
   "metadata": {},
   "outputs": [],
   "source": [
    "def read_query_results(filename):\n",
    "    with open('./results_NLS/'+filename, 'r') as f:\n",
    "        query_results = safe_load(f)\n",
    "    return query_results\n"
   ]
  },
  {
   "cell_type": "code",
   "execution_count": 4,
   "metadata": {},
   "outputs": [],
   "source": [
    "def write_query_results(filename, results):\n",
    "    with open('./results_NLS/'+filename, 'w') as f:\n",
    "        documents = yaml.dump(results, f)"
   ]
  },
  {
   "cell_type": "code",
   "execution_count": 5,
   "metadata": {},
   "outputs": [],
   "source": [
    "def create_dataframe(data):\n",
    "    return pd.DataFrame(data.items())"
   ]
  },
  {
   "cell_type": "code",
   "execution_count": 13,
   "metadata": {},
   "outputs": [],
   "source": [
    "def merge_terms(query_results):\n",
    "    for page in query_results:\n",
    "        for element in query_results[page]:\n",
    "            if \"previous_page\" in element['term']:\n",
    "                current_page=int(element['text_unit_id'].split(\"Page\")[1])\n",
    "                current_definition= element[\"definition\"]\n",
    "                previous_page_number= current_page-1\n",
    "                previous_page=previous_page_number\n",
    "                num_article_words=element[\"num_article_words\"]\n",
    "                related_terms=element[\"related_terms\"]\n",
    "                try:\n",
    "                    if query_results[previous_page]:\n",
    "                        flag_prev = 1\n",
    "                except:\n",
    "                    flag_prev = 0\n",
    "                while not flag_prev:\n",
    "                    previous_page_number = previous_page_number -1\n",
    "                    previous_page=previous_page_number\n",
    "                    try: \n",
    "                        if query_results[previous_page]:\n",
    "                            flag_prev = 1\n",
    "                    except:\n",
    "                        flag_prev = 0\n",
    "        \n",
    "                #print(\"Current Page %s - Previous Page %s\" %(element['text_unit_id'], previous_page))\n",
    "                for prev_elements in query_results[previous_page]:\n",
    "                    if prev_elements[\"last_term_in_page\"]:\n",
    "                        prev_elements[\"definition\"]+=current_definition\n",
    "                        prev_elements[\"num_article_words\"]+=num_article_words\n",
    "                        prev_elements[\"related_terms\"]+= related_terms\n",
    "                    \n",
    "                    prev_elements[\"num_page_words\"]+=num_article_words\n",
    "                    \n",
    "                for update_element in query_results[page]:\n",
    "                    update_element[\"num_page_words\"]-=num_article_words\n",
    "                    update_element[\"num_articles\"]-=1\n",
    "                    \n",
    "                element_index=query_results[page].index(element)\n",
    "                del query_results[page][element_index]\n",
    "    return query_results"
   ]
  },
  {
   "cell_type": "code",
   "execution_count": 10,
   "metadata": {},
   "outputs": [],
   "source": [
    "query_results=read_query_results('results_eb_first')"
   ]
  },
  {
   "cell_type": "code",
   "execution_count": 14,
   "metadata": {},
   "outputs": [
    {
     "name": "stdout",
     "output_type": "stream",
     "text": [
      "Current Page Page3 - Previous Page 2\n",
      "Current Page Page16 - Previous Page 15\n",
      "Current Page Page17 - Previous Page 16\n",
      "Current Page Page19 - Previous Page 18\n",
      "Current Page Page21 - Previous Page 20\n",
      "Current Page Page23 - Previous Page 22\n",
      "Current Page Page24 - Previous Page 23\n",
      "Current Page Page25 - Previous Page 24\n",
      "Current Page Page27 - Previous Page 26\n",
      "Current Page Page33 - Previous Page 30\n",
      "Current Page Page35 - Previous Page 34\n",
      "Current Page Page38 - Previous Page 37\n",
      "Current Page Page40 - Previous Page 39\n",
      "Current Page Page43 - Previous Page 41\n",
      "Current Page Page44 - Previous Page 43\n",
      "Current Page Page45 - Previous Page 44\n",
      "Current Page Page47 - Previous Page 46\n",
      "Current Page Page48 - Previous Page 47\n",
      "Current Page Page50 - Previous Page 49\n",
      "Current Page Page51 - Previous Page 50\n",
      "Current Page Page52 - Previous Page 51\n",
      "Current Page Page53 - Previous Page 52\n",
      "Current Page Page54 - Previous Page 53\n",
      "Current Page Page55 - Previous Page 54\n",
      "Current Page Page56 - Previous Page 55\n",
      "Current Page Page57 - Previous Page 56\n",
      "Current Page Page74 - Previous Page 73\n",
      "Current Page Page102 - Previous Page 101\n",
      "Current Page Page103 - Previous Page 102\n",
      "Current Page Page104 - Previous Page 103\n",
      "Current Page Page105 - Previous Page 104\n",
      "Current Page Page106 - Previous Page 105\n",
      "Current Page Page109 - Previous Page 106\n",
      "Current Page Page110 - Previous Page 109\n",
      "Current Page Page113 - Previous Page 112\n",
      "Current Page Page117 - Previous Page 116\n",
      "Current Page Page126 - Previous Page 125\n",
      "Current Page Page130 - Previous Page 129\n",
      "Current Page Page131 - Previous Page 130\n",
      "Current Page Page139 - Previous Page 138\n",
      "Current Page Page151 - Previous Page 150\n",
      "Current Page Page152 - Previous Page 151\n",
      "Current Page Page153 - Previous Page 152\n",
      "Current Page Page156 - Previous Page 155\n",
      "Current Page Page160 - Previous Page 159\n",
      "Current Page Page164 - Previous Page 163\n",
      "Current Page Page165 - Previous Page 164\n",
      "Current Page Page166 - Previous Page 165\n",
      "Current Page Page167 - Previous Page 166\n",
      "Current Page Page168 - Previous Page 167\n",
      "Current Page Page169 - Previous Page 168\n",
      "Current Page Page173 - Previous Page 172\n",
      "Current Page Page174 - Previous Page 173\n",
      "Current Page Page180 - Previous Page 179\n",
      "Current Page Page185 - Previous Page 180\n",
      "Current Page Page308 - Previous Page 307\n",
      "Current Page Page361 - Previous Page 360\n",
      "Current Page Page363 - Previous Page 362\n",
      "Current Page Page364 - Previous Page 363\n",
      "Current Page Page365 - Previous Page 364\n",
      "Current Page Page366 - Previous Page 365\n",
      "Current Page Page374 - Previous Page 373\n",
      "Current Page Page375 - Previous Page 374\n",
      "Current Page Page379 - Previous Page 378\n",
      "Current Page Page381 - Previous Page 380\n",
      "Current Page Page382 - Previous Page 381\n",
      "Current Page Page385 - Previous Page 381\n",
      "Current Page Page387 - Previous Page 386\n",
      "Current Page Page388 - Previous Page 387\n",
      "Current Page Page391 - Previous Page 386\n",
      "Current Page Page393 - Previous Page 392\n",
      "Current Page Page395 - Previous Page 394\n",
      "Current Page Page396 - Previous Page 395\n",
      "Current Page Page397 - Previous Page 396\n",
      "Current Page Page398 - Previous Page 397\n",
      "Current Page Page399 - Previous Page 398\n",
      "Current Page Page400 - Previous Page 399\n",
      "Current Page Page405 - Previous Page 404\n",
      "Current Page Page409 - Previous Page 406\n",
      "Current Page Page418 - Previous Page 416\n",
      "Current Page Page445 - Previous Page 444\n",
      "Current Page Page446 - Previous Page 445\n",
      "Current Page Page456 - Previous Page 455\n",
      "Current Page Page471 - Previous Page 470\n",
      "Current Page Page472 - Previous Page 471\n",
      "Current Page Page473 - Previous Page 472\n",
      "Current Page Page476 - Previous Page 475\n",
      "Current Page Page490 - Previous Page 489\n",
      "Current Page Page497 - Previous Page 496\n",
      "Current Page Page502 - Previous Page 501\n",
      "Current Page Page506 - Previous Page 505\n",
      "Current Page Page509 - Previous Page 505\n",
      "Current Page Page510 - Previous Page 509\n",
      "Current Page Page511 - Previous Page 510\n",
      "Current Page Page514 - Previous Page 513\n",
      "Current Page Page516 - Previous Page 515\n",
      "Current Page Page517 - Previous Page 516\n",
      "Current Page Page591 - Previous Page 590\n",
      "Current Page Page609 - Previous Page 604\n",
      "Current Page Page610 - Previous Page 609\n",
      "Current Page Page611 - Previous Page 610\n",
      "Current Page Page613 - Previous Page 612\n",
      "Current Page Page614 - Previous Page 613\n",
      "Current Page Page615 - Previous Page 614\n",
      "Current Page Page617 - Previous Page 616\n",
      "Current Page Page618 - Previous Page 617\n",
      "Current Page Page619 - Previous Page 618\n",
      "Current Page Page622 - Previous Page 621\n",
      "Current Page Page623 - Previous Page 622\n",
      "Current Page Page624 - Previous Page 623\n",
      "Current Page Page627 - Previous Page 626\n",
      "Current Page Page631 - Previous Page 630\n",
      "Current Page Page635 - Previous Page 634\n",
      "Current Page Page636 - Previous Page 635\n",
      "Current Page Page637 - Previous Page 636\n",
      "Current Page Page638 - Previous Page 637\n",
      "Current Page Page639 - Previous Page 638\n",
      "Current Page Page640 - Previous Page 639\n",
      "Current Page Page641 - Previous Page 640\n",
      "Current Page Page642 - Previous Page 641\n",
      "Current Page Page643 - Previous Page 642\n",
      "Current Page Page644 - Previous Page 643\n",
      "Current Page Page646 - Previous Page 645\n",
      "Current Page Page647 - Previous Page 646\n",
      "Current Page Page649 - Previous Page 648\n",
      "Current Page Page650 - Previous Page 649\n",
      "Current Page Page651 - Previous Page 650\n",
      "Current Page Page652 - Previous Page 651\n",
      "Current Page Page657 - Previous Page 656\n",
      "Current Page Page658 - Previous Page 657\n",
      "Current Page Page659 - Previous Page 658\n",
      "Current Page Page660 - Previous Page 659\n",
      "Current Page Page661 - Previous Page 660\n",
      "Current Page Page664 - Previous Page 663\n",
      "Current Page Page665 - Previous Page 664\n",
      "Current Page Page666 - Previous Page 665\n",
      "Current Page Page667 - Previous Page 666\n",
      "Current Page Page668 - Previous Page 667\n",
      "Current Page Page681 - Previous Page 680\n",
      "Current Page Page682 - Previous Page 681\n",
      "Current Page Page683 - Previous Page 682\n",
      "Current Page Page684 - Previous Page 683\n",
      "Current Page Page687 - Previous Page 685\n",
      "Current Page Page688 - Previous Page 687\n",
      "Current Page Page692 - Previous Page 691\n",
      "Current Page Page698 - Previous Page 697\n",
      "Current Page Page700 - Previous Page 699\n",
      "Current Page Page702 - Previous Page 701\n",
      "Current Page Page704 - Previous Page 703\n",
      "Current Page Page706 - Previous Page 705\n",
      "Current Page Page723 - Previous Page 722\n",
      "Current Page Page729 - Previous Page 728\n",
      "Current Page Page730 - Previous Page 729\n",
      "Current Page Page735 - Previous Page 734\n",
      "Current Page Page741 - Previous Page 740\n",
      "Current Page Page743 - Previous Page 742\n",
      "Current Page Page744 - Previous Page 743\n",
      "Current Page Page745 - Previous Page 744\n",
      "Current Page Page746 - Previous Page 745\n",
      "Current Page Page747 - Previous Page 746\n",
      "Current Page Page755 - Previous Page 752\n",
      "Current Page Page762 - Previous Page 761\n",
      "Current Page Page764 - Previous Page 763\n",
      "Current Page Page784 - Previous Page 783\n",
      "Current Page Page787 - Previous Page 786\n",
      "Current Page Page789 - Previous Page 788\n",
      "Current Page Page790 - Previous Page 789\n",
      "Current Page Page791 - Previous Page 790\n",
      "Current Page Page792 - Previous Page 791\n",
      "Current Page Page793 - Previous Page 792\n",
      "Current Page Page796 - Previous Page 795\n",
      "Current Page Page797 - Previous Page 796\n",
      "Current Page Page801 - Previous Page 800\n",
      "Current Page Page804 - Previous Page 803\n",
      "Current Page Page808 - Previous Page 807\n",
      "Current Page Page809 - Previous Page 808\n",
      "Current Page Page810 - Previous Page 809\n",
      "Current Page Page812 - Previous Page 811\n",
      "Current Page Page813 - Previous Page 812\n",
      "Current Page Page815 - Previous Page 814\n",
      "Current Page Page816 - Previous Page 815\n",
      "Current Page Page817 - Previous Page 816\n",
      "Current Page Page819 - Previous Page 818\n",
      "Current Page Page820 - Previous Page 819\n",
      "Current Page Page821 - Previous Page 820\n",
      "Current Page Page822 - Previous Page 821\n",
      "Current Page Page823 - Previous Page 822\n",
      "Current Page Page824 - Previous Page 823\n",
      "Current Page Page825 - Previous Page 824\n",
      "Current Page Page827 - Previous Page 826\n",
      "Current Page Page828 - Previous Page 827\n",
      "Current Page Page829 - Previous Page 828\n",
      "Current Page Page830 - Previous Page 829\n"
     ]
    }
   ],
   "source": [
    "query_results_updated=merge_terms(query_results)"
   ]
  },
  {
   "cell_type": "code",
   "execution_count": 15,
   "metadata": {},
   "outputs": [],
   "source": [
    "write_query_results(\"results_eb_first_updated\", query_results_updated)"
   ]
  },
  {
   "cell_type": "code",
   "execution_count": 16,
   "metadata": {},
   "outputs": [],
   "source": [
    "df=create_dataframe(query_results_updated)"
   ]
  },
  {
   "cell_type": "code",
   "execution_count": 17,
   "metadata": {},
   "outputs": [
    {
     "data": {
      "text/plain": [
       "0        2\n",
       "1        3\n",
       "2        8\n",
       "3        9\n",
       "4       11\n",
       "      ... \n",
       "715    826\n",
       "716    827\n",
       "717    828\n",
       "718    829\n",
       "719    830\n",
       "Name: 0, Length: 720, dtype: int64"
      ]
     },
     "execution_count": 17,
     "metadata": {},
     "output_type": "execute_result"
    }
   ],
   "source": [
    "df[0]"
   ]
  },
  {
   "cell_type": "code",
   "execution_count": 18,
   "metadata": {},
   "outputs": [
    {
     "data": {
      "text/plain": [
       "[{'archive_filename': '/Users/rosafilgueira/HW-Work/NLS-Fellowship/work/defoe/nls-data-encyclopaediaBritannica/first_edition/144133901/',\n",
       "  'definition': 'n*s-f 7^\\' v L i A j J ^ /^^W / ; H:;^’ J }r-r£c9\\'&} \"*— \" ..^4-—>, \\'I ■ . ,/. ■ -,... v V *•/U^v UJ~L ^ (txk^L j 1rvt*Xitj $ /i *4j/cJysx*£>Xb<. f^oLZ^^c^. % \\'bv C JJ. \\' }v*c Ccl U^K <77t . t^cCv-yt^yA. *-? ^v. •^GL* ftc *frt yylrr Cj? yu>t f\\\\ ^^2!',\n",
       "  'edition': 'First edition, 1771, Volume 1, A-B',\n",
       "  'header': 'iiiubnsfvnsfv',\n",
       "  'last_term_in_page': 1,\n",
       "  'model': 'nlsArticles',\n",
       "  'num_article_words': 58,\n",
       "  'num_articles': 1,\n",
       "  'num_page_words': 59,\n",
       "  'num_text_unit': 832,\n",
       "  'place': 'Edinburgh',\n",
       "  'related_terms': [],\n",
       "  'source_text_file': 'alto/188082735.34.xml',\n",
       "  'term': 'iiiubnsfvnsfv',\n",
       "  'term_id_in_page': 0,\n",
       "  'text_unit': 'page',\n",
       "  'text_unit_id': 'Page2',\n",
       "  'title': 'Encyclopaedia Britannica; or, A dictionary of arts and sciences, compiled upon a new plan',\n",
       "  'type_archive': 'book',\n",
       "  'type_page': 'FullPage',\n",
       "  'year': 1771}]"
      ]
     },
     "execution_count": 18,
     "metadata": {},
     "output_type": "execute_result"
    }
   ],
   "source": [
    "df.iloc[0][1]"
   ]
  },
  {
   "cell_type": "code",
   "execution_count": null,
   "metadata": {},
   "outputs": [],
   "source": []
  }
 ],
 "metadata": {
  "kernelspec": {
   "display_name": "Python 3",
   "language": "python",
   "name": "python3"
  },
  "language_info": {
   "codemirror_mode": {
    "name": "ipython",
    "version": 3
   },
   "file_extension": ".py",
   "mimetype": "text/x-python",
   "name": "python",
   "nbconvert_exporter": "python",
   "pygments_lexer": "ipython3",
   "version": "3.7.2"
  }
 },
 "nbformat": 4,
 "nbformat_minor": 2
}
