{
 "cells": [
  {
   "cell_type": "markdown",
   "metadata": {},
   "source": [
    "# Merging EB terms-  NLS -  Encyclopaedia Britannica\n"
   ]
  },
  {
   "cell_type": "markdown",
   "metadata": {},
   "source": [
    "### Loading the necessary libraries"
   ]
  },
  {
   "cell_type": "code",
   "execution_count": 4,
   "metadata": {},
   "outputs": [],
   "source": [
    "import yaml\n",
    "import matplotlib.pyplot as plt\n",
    "import numpy as np\n",
    "import collections\n",
    "import matplotlib as mpl"
   ]
  },
  {
   "cell_type": "code",
   "execution_count": 25,
   "metadata": {},
   "outputs": [],
   "source": [
    "import pandas as pd\n",
    "from yaml import safe_load\n",
    "from pandas.io.json import json_normalize"
   ]
  },
  {
   "cell_type": "markdown",
   "metadata": {},
   "source": [
    "### Functions"
   ]
  },
  {
   "cell_type": "code",
   "execution_count": 6,
   "metadata": {},
   "outputs": [],
   "source": [
    "def read_query_results(filename):\n",
    "    with open('./results_NLS/'+filename, 'r') as f:\n",
    "        query_results = safe_load(f)\n",
    "    return query_results\n"
   ]
  },
  {
   "cell_type": "code",
   "execution_count": 7,
   "metadata": {},
   "outputs": [],
   "source": [
    "def write_query_results(filename, results):\n",
    "    with open('./results_NLS/'+filename, 'w') as f:\n",
    "        documents = yaml.dump(results, f)"
   ]
  },
  {
   "cell_type": "code",
   "execution_count": 31,
   "metadata": {},
   "outputs": [],
   "source": [
    "def create_dataframe(data):\n",
    "    return pd.DataFrame(data.items())"
   ]
  },
  {
   "cell_type": "code",
   "execution_count": 9,
   "metadata": {},
   "outputs": [],
   "source": [
    "def merge_terms(query_results):\n",
    "    for page in query_results:\n",
    "        for element in query_results[page]:\n",
    "            if \"previous_page\" in element['term']:\n",
    "                current_page=int(element['text_unit_id'].split(\"Page\")[1])\n",
    "                current_definition= element[\"definition\"]\n",
    "                previous_page_number= current_page-1\n",
    "                previous_page=\"Page\"+str(previous_page_number)\n",
    "                num_article_words=element[\"num_article_words\"]\n",
    "                try:\n",
    "                    if query_results[previous_page]:\n",
    "                        flag_prev = 1\n",
    "                except:\n",
    "                    flag_prev = 0\n",
    "                while not flag_prev:\n",
    "                    previous_page_number = previous_page_number -1\n",
    "                    previous_page=\"Page\"+str(previous_page_number)\n",
    "                    try: \n",
    "                        if query_results[previous_page]:\n",
    "                            flag_prev = 1\n",
    "                    except:\n",
    "                        flag_prev = 0\n",
    "        \n",
    "                \n",
    "                for prev_elements in query_results[previous_page]:\n",
    "                    if prev_elements[\"last_term_in_page\"]:\n",
    "                        prev_elements[\"definition\"]+=current_definition\n",
    "                        prev_elements[\"num_article_words\"]+=num_article_words\n",
    "                    \n",
    "                    prev_elements[\"num_page_words\"]+=num_article_words\n",
    "                    \n",
    "                for update_element in query_results[page]:\n",
    "                    update_element[\"num_page_words\"]-=num_article_words\n",
    "                    update_element[\"num_articles\"]-=1\n",
    "                    \n",
    "                element_index=query_results[page].index(element)\n",
    "                del query_results[page][element_index]\n",
    "    return query_results"
   ]
  },
  {
   "cell_type": "code",
   "execution_count": 10,
   "metadata": {},
   "outputs": [],
   "source": [
    "query_results=read_query_results('results_eb_first')\n",
    "query_results_updated=merge_terms(query_results)"
   ]
  },
  {
   "cell_type": "code",
   "execution_count": 11,
   "metadata": {},
   "outputs": [],
   "source": [
    "write_query_results(\"results_eb_first_updated\", query_results_updated)"
   ]
  },
  {
   "cell_type": "code",
   "execution_count": 32,
   "metadata": {},
   "outputs": [],
   "source": [
    "df=create_dataframe(query_results_updated)"
   ]
  },
  {
   "cell_type": "code",
   "execution_count": 36,
   "metadata": {},
   "outputs": [
    {
     "data": {
      "text/plain": [
       "0      Page100\n",
       "1      Page101\n",
       "2      Page102\n",
       "3      Page103\n",
       "4      Page104\n",
       "        ...   \n",
       "715     Page93\n",
       "716     Page94\n",
       "717     Page95\n",
       "718     Page96\n",
       "719     Page99\n",
       "Name: 0, Length: 720, dtype: object"
      ]
     },
     "execution_count": 36,
     "metadata": {},
     "output_type": "execute_result"
    }
   ],
   "source": [
    "df[0]"
   ]
  },
  {
   "cell_type": "code",
   "execution_count": 38,
   "metadata": {},
   "outputs": [
    {
     "data": {
      "text/plain": [
       "[{'archive_filename': '/Users/rosafilgueira/HW-Work/NLS-Fellowship/work/defoe/nls-data-encyclopaediaBritannica/first_edition/144133901/',\n",
       "  'definition': \"with a plough that has no mold-board, for the horse to go in that draws the drill, direfting himself with his eye by the flakes. 8. The flowing should be fmifhed about the end of September, or beginning of October. 9. The furrows must be traced the long way of the land, that as little ground as possible may be lost in headlands i 10. The rows, if it can be done, ftiould run down the' slope of the land, that the water may get the caller off. 11. The feed-wheat must be plunged into a tub of lime-water, andftirred, that the light corn may come to the surface and be Ikimmcd off. 12. The feed must next be flpread on a floor, and frequently stirred, till it is dry enough to run through the valves of the happer of the drill. 13. To prevent fmut, the feed may be put into a lye of alhes and lime. 14. After the happers of the drill are filled, the horse must go slowly along the furrow that was traced. That a proper quantity of feed may be sown, the aperture of the happer must be.suited to the size of the grain. 15. As the drill is seldom well managed at first, the field Ihould be examined after the corn has come up, and the deficiencies supplied. 16. Stiff lands that retain the wet, must be stirred or hoed in Offober. This Ihould be done by opening a furrow in the middle of the intervals, and afterwards filling it up by a furrow drawn on each side, which will raise the earth in the middle of the intervals, and leave two small furrows next the rows,, for draining off the water, which is very hurtful to wheat in winter. 17. The next stirring must be given about the end of March, with a light plough. In this stirring, the furrows made to drain the rows must be filled up by earth from the middle of the intervals. A G R AGRIFOLIUM, in botany. See Aquifolium. AGRIMONIA, Agrimony, in botany, a genus of the dodecandriadigynia class. There are three species of this genus, viz. the eupatoria, repens, and agrimonoides; of which the eupatoria only is a native of Britain. The calix of the eupatoria is quinquedentated; it has five petals, and two feeds in the bottom of the calix. It is said to be good in obftru&ions of the liver, &c. AGRIMONOIDES, in botany, the trivial name of a species of the agrimonia. AGRIMONY. See Agrimonia. i Aw/i Agrimony. See Eupatorium. Water-hemp-Agrimony. See Bidens. AGRIOCINARA, in botany. See Cinara. AGRIPPA, in midwifery, a term applied to children brought forth with their feet foremost. See Midwifery. r L T U R E. 18. Some time in May, the rows must be evened, which, though troublesome at first, soon becomes easy, as the weeds are soon kept under by tillage. 19. In June, just before the wheat is in bloom, another stirring must be given with the plough. A deep furrow must be made in the middle of the intervals, and the earth thrown upon the sides.of the rows. 20. When the wheat is ripe, particular care most be taken in reaping it, to trample as little as poflible on the ploughed land. 21. Soon after the wheat is carried off the field, the . intervals must be turned up with the plough, to prepare them for the feed. The great furrow in the middle ..must not only be filled, but the earth raised as much as poflible in the middle of the intervals. 22. In September, the land must be again sowed with a drill, as above directed. 23. In Odober, the stubble must be turned in for forming the new intervals; and the same management must be observed as direded in the first year. We pretend not to determine whether the old or new ■ husbandry be preferable in every country. With regard to this point, the climate, the fituatibn of particular land, fltill and dexterity in managing the machinery, the comparative expeuce in raising crops, and many other circumstances, must be accurately attended to before a determination can be given. One observation, however, may be made in favour of the new husbandry :—Though the particular modes of cultivating land by it are perhaps too limited to be universally adopted ; yet it has been of great use in raising suspicions concerning the old method, and in turning the views of philosophers and farmers towards improving in general. Many real improvements in agriculture have been the consequences of these suspicions; and as this spirit of inquiry remains in full vigour, particularly in our own country, a solid foundation is laid for expedting still further improvements in this useful art. A G R AGRIUM, in nat. hist. See Natrum. AGROM, the name of a disease incident to the inhabitants of the East-Indies, by which their tongues chap and cleave in different places. AGROPOLI, a small town in the kingdom of Naples, and province of the Hither Principato. AGROSTEMMA, or Cockle, in botany, a genus of the decandria pentagynia class. The calix is monophyllous ; the petals are five, and ungulated; and the capfule one-valved. There are four species of the agroftemma, viz. the githago, a native of Britain; the coolirofa, a native of Sicily; the coronaiia, a native of Italy; and the flos Jovis, a native of Switzerland. AGROSTIS, bent-gross, in botany, a genus of the triandria digynia class. The calix has two valves, terminated by a beard or aun. There are fifteen species of the anroftis, eight of which are natives of Britain. AGROS-\",\n",
       "  'edition': 'First edition, 1771, Volume 1, A-B',\n",
       "  'header': 'yoAG',\n",
       "  'last_term_in_page': 1,\n",
       "  'model': 'nlsArticles',\n",
       "  'num_article_words': 941,\n",
       "  'num_articles': 1,\n",
       "  'num_page_words': 959,\n",
       "  'num_text_unit': 832,\n",
       "  'place': 'Edinburgh',\n",
       "  'source_text_file': 'alto/188084012.34.xml',\n",
       "  'term': 'yoAG',\n",
       "  'term_id_in_page': 0,\n",
       "  'text_unit': 'page',\n",
       "  'text_unit_id': 'Page100',\n",
       "  'title': 'Encyclopaedia Britannica; or, A dictionary of arts and sciences, compiled upon a new plan',\n",
       "  'type_archive': 'book',\n",
       "  'type_page': 'Topic',\n",
       "  'year': 1771}]"
      ]
     },
     "execution_count": 38,
     "metadata": {},
     "output_type": "execute_result"
    }
   ],
   "source": [
    "df.iloc[0][1]"
   ]
  },
  {
   "cell_type": "code",
   "execution_count": null,
   "metadata": {},
   "outputs": [],
   "source": []
  }
 ],
 "metadata": {
  "kernelspec": {
   "display_name": "Python 3",
   "language": "python",
   "name": "python3"
  },
  "language_info": {
   "codemirror_mode": {
    "name": "ipython",
    "version": 3
   },
   "file_extension": ".py",
   "mimetype": "text/x-python",
   "name": "python",
   "nbconvert_exporter": "python",
   "pygments_lexer": "ipython3",
   "version": "3.7.2"
  }
 },
 "nbformat": 4,
 "nbformat_minor": 2
}
