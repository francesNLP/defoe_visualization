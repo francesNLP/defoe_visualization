{
 "cells": [
  {
   "cell_type": "markdown",
   "metadata": {},
   "source": [
    "# Merging EB terms-  NLS -  Encyclopaedia Britannica\n"
   ]
  },
  {
   "cell_type": "markdown",
   "metadata": {},
   "source": [
    "### Loading the necessary libraries"
   ]
  },
  {
   "cell_type": "code",
   "execution_count": 1,
   "metadata": {},
   "outputs": [],
   "source": [
    "import yaml\n",
    "import matplotlib.pyplot as plt\n",
    "import numpy as np\n",
    "import collections\n",
    "import matplotlib as mpl"
   ]
  },
  {
   "cell_type": "markdown",
   "metadata": {},
   "source": [
    "### Functions"
   ]
  },
  {
   "cell_type": "code",
   "execution_count": 54,
   "metadata": {},
   "outputs": [],
   "source": [
    "def read_query_results(filename):\n",
    "    with open('./results_NLS/'+filename, 'r') as f:\n",
    "        query_results = yaml.safe_load(f)\n",
    "    return query_results\n"
   ]
  },
  {
   "cell_type": "code",
   "execution_count": 59,
   "metadata": {},
   "outputs": [],
   "source": [
    "def write_query_results(filename, results):\n",
    "    with open('./results_NLS/'+filename, 'w') as f:\n",
    "        documents = yaml.dump(results, f)"
   ]
  },
  {
   "cell_type": "code",
   "execution_count": 55,
   "metadata": {},
   "outputs": [],
   "source": [
    "def merge_terms(query_results):\n",
    "    for page in query_results:\n",
    "        for element in query_results[page]:\n",
    "            if \"previous_page\" in element['term']:\n",
    "                current_page=int(element['text_unit_id'].split(\"Page\")[1])\n",
    "                current_definition= element[\"definition\"]\n",
    "                previous_page_number= current_page-1\n",
    "                previous_page=\"Page\"+str(previous_page_number)\n",
    "                num_article_words=element[\"num_article_words\"]\n",
    "                try:\n",
    "                    if query_results[previous_page]:\n",
    "                        flag_prev = 1\n",
    "                except:\n",
    "                    flag_prev = 0\n",
    "                while not flag_prev:\n",
    "                    previous_page_number = previous_page_number -1\n",
    "                    previous_page=\"Page\"+str(previous_page_number)\n",
    "                    try: \n",
    "                        if query_results[previous_page]:\n",
    "                            flag_prev = 1\n",
    "                    except:\n",
    "                        flag_prev = 0\n",
    "        \n",
    "                \n",
    "                for prev_elements in query_results[previous_page]:\n",
    "                    if prev_elements[\"last_term_in_page\"]:\n",
    "                        prev_elements[\"definition\"]+=current_definition\n",
    "                        prev_elements[\"num_article_words\"]+=num_article_words\n",
    "                    \n",
    "                    prev_elements[\"num_page_words\"]+=num_article_words\n",
    "                    \n",
    "                for update_element in query_results[page]:\n",
    "                    update_element[\"num_page_words\"]-=num_article_words\n",
    "                    update_element[\"num_articles\"]-=1\n",
    "                    \n",
    "                element_index=query_results[page].index(element)\n",
    "                del query_results[page][element_index]\n",
    "    return query_results"
   ]
  },
  {
   "cell_type": "code",
   "execution_count": 56,
   "metadata": {},
   "outputs": [],
   "source": [
    "query_results=read_query_results('results_eb_first')\n",
    "query_results_updated=merge_terms(query_results)"
   ]
  },
  {
   "cell_type": "code",
   "execution_count": 61,
   "metadata": {},
   "outputs": [],
   "source": [
    "write_query_results(\"results_eb_first_updated\", query_results_updated)"
   ]
  },
  {
   "cell_type": "code",
   "execution_count": null,
   "metadata": {},
   "outputs": [],
   "source": []
  }
 ],
 "metadata": {
  "kernelspec": {
   "display_name": "Python 3",
   "language": "python",
   "name": "python3"
  },
  "language_info": {
   "codemirror_mode": {
    "name": "ipython",
    "version": 3
   },
   "file_extension": ".py",
   "mimetype": "text/x-python",
   "name": "python",
   "nbconvert_exporter": "python",
   "pygments_lexer": "ipython3",
   "version": "3.7.2"
  }
 },
 "nbformat": 4,
 "nbformat_minor": 2
}
